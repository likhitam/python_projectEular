{
 "cells": [
  {
   "cell_type": "code",
   "execution_count": null,
   "metadata": {},
   "outputs": [],
   "source": []
  },
  {
   "cell_type": "code",
   "execution_count": 10,
   "metadata": {},
   "outputs": [
    {
     "name": "stdout",
     "output_type": "stream",
     "text": [
      "233168\n"
     ]
    }
   ],
   "source": [
    "## problem 1: sum of multiples of 3 and 5 between 1 - 1000\n",
    "\n",
    "a = list(range(1,1000))\n",
    "i = 0\n",
    "sum = 0\n",
    "while i < len(a) :\n",
    "    if a[i] % 3 == 0 or a[i] % 5 == 0 : \n",
    "        sum += a[i]\n",
    "    i+=1\n",
    "print(sum)\n"
   ]
  },
  {
   "cell_type": "code",
   "execution_count": 18,
   "metadata": {},
   "outputs": [
    {
     "name": "stdout",
     "output_type": "stream",
     "text": [
      "4613732\n"
     ]
    }
   ],
   "source": [
    "## problem 2: sum of even fibinocci numbers < 4 million\n",
    "\n",
    "a = [1 , 2]\n",
    "i = 0\n",
    "sum = 0\n",
    "while a[i] < 4000000 :\n",
    "    a.append(a[i] + a[i+1])\n",
    "    if a[i] % 2 == 0:\n",
    "        sum += a[i]\n",
    "    i +=1\n",
    "\n",
    "print (sum)\n"
   ]
  },
  {
   "cell_type": "code",
   "execution_count": 14,
   "metadata": {},
   "outputs": [
    {
     "name": "stdout",
     "output_type": "stream",
     "text": [
      "[71, 839, 1471, 6857]\n",
      "6857\n"
     ]
    }
   ],
   "source": [
    "## problem 3 : largest prime factor of a number\n",
    "import math\n",
    "n = 600851475143\n",
    "a = []\n",
    "# 2 as prime factor \n",
    "while n % 2 == 0: \n",
    "    a.append(2)  \n",
    "    n = n / 2\n",
    "# odd factors \n",
    "for i in range(3,int(math.sqrt(n))+1,2):  \n",
    "    while n % i== 0: \n",
    "        a.append(i) \n",
    "        n = n / i               \n",
    "# Condition if n is a prime \n",
    "if n > 2: \n",
    "    a.append(n)\n",
    "print(a)\n",
    "print(a[-1])\n",
    "        \n",
    "\n",
    "    "
   ]
  },
  {
   "cell_type": "code",
   "execution_count": 25,
   "metadata": {},
   "outputs": [
    {
     "name": "stdout",
     "output_type": "stream",
     "text": [
      "906609\n"
     ]
    }
   ],
   "source": [
    "# problem 4 : Largest palindrome product\n",
    "import math\n",
    "maxim = 0\n",
    "for i in range(100, 1000, 1):\n",
    "    for j in range(100,1000,1):\n",
    "        n = i * j\n",
    "        temp = n\n",
    "        rev = 0\n",
    "        while n>0 :\n",
    "            dig = n%10\n",
    "            rev = rev*10 + dig\n",
    "            n = n // 10\n",
    "            if temp == rev and temp > maxim: \n",
    "                maxim = temp\n",
    "        j += 1\n",
    "    i += 1\n",
    "\n",
    "print(maxim)\n"
   ]
  },
  {
   "cell_type": "code",
   "execution_count": 14,
   "metadata": {},
   "outputs": [
    {
     "name": "stdout",
     "output_type": "stream",
     "text": [
      "[[2], [3], [2, 2], [5], [2, 3.0], [7], [2, 2, 2], [3, 3], [2, 5.0], [11], [2, 2, 3.0], [13], [2, 7.0], [3, 5.0], [2, 2, 2, 2], [17], [2, 3, 3], [19]]\n"
     ]
    }
   ],
   "source": [
    "## problem 5 : smallest multiple 1-20\n",
    "\n",
    "import math\n",
    "b =[]\n",
    "for n in range(2,20):\n",
    "    a = []\n",
    "# 2 as prime factor \n",
    "    while n % 2 == 0: \n",
    "        a.append(2)  \n",
    "        n = n / 2\n",
    "# odd factors \n",
    "    for i in range(3,int(math.sqrt(n))+1,2):  \n",
    "        while n % i== 0: \n",
    "            a.append(i) \n",
    "            n = n / i               \n",
    "# Condition if n is a prime \n",
    "    if n > 2: \n",
    "        a.append(n)\n",
    "    b.append(a)\n",
    "    \n",
    "print (b)\n",
    "\n",
    "    \n",
    "\n",
    "    "
   ]
  },
  {
   "cell_type": "code",
   "execution_count": null,
   "metadata": {},
   "outputs": [],
   "source": []
  },
  {
   "cell_type": "code",
   "execution_count": null,
   "metadata": {},
   "outputs": [],
   "source": []
  }
 ],
 "metadata": {
  "kernelspec": {
   "display_name": "Python 3",
   "language": "python",
   "name": "python3"
  },
  "language_info": {
   "codemirror_mode": {
    "name": "ipython",
    "version": 3
   },
   "file_extension": ".py",
   "mimetype": "text/x-python",
   "name": "python",
   "nbconvert_exporter": "python",
   "pygments_lexer": "ipython3",
   "version": "3.7.1"
  }
 },
 "nbformat": 4,
 "nbformat_minor": 2
}
